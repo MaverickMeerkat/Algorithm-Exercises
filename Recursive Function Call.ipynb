{
 "cells": [
  {
   "cell_type": "code",
   "execution_count": 2,
   "metadata": {},
   "outputs": [],
   "source": [
    "import time\n",
    "from threading import Thread\n",
    "\n",
    "class Timer:\n",
    "    def __init__(self):\n",
    "        self.currentTime = time.time()\n",
    "        self.currentFunction = None\n",
    "        self.flag = True\n",
    "\n",
    "        thread = Thread(target=self.run)\n",
    "        thread.start()\n",
    "\n",
    "    def run(self):\n",
    "        while (self.flag):\n",
    "            if self.currentFunction is not None:\n",
    "                if time.time() - 0.5 < self.currentTime < time.time() + 0.5:\n",
    "                    self.currentFunction()\n",
    "            time.sleep(1)\n",
    "\n",
    "    def setTimer(self, time, function):\n",
    "        self.currentTime = time\n",
    "        self.currentFunction = function\n",
    "\n",
    "    def close(self):\n",
    "        self.flag = False"
   ]
  },
  {
   "cell_type": "code",
   "execution_count": 3,
   "metadata": {},
   "outputs": [],
   "source": [
    "timer = Timer()"
   ]
  },
  {
   "cell_type": "code",
   "execution_count": 4,
   "metadata": {},
   "outputs": [],
   "source": [
    "def foo():\n",
    "    print(\"foo\")\n",
    "    \n",
    "def bar():\n",
    "    print(\"bar\")"
   ]
  },
  {
   "cell_type": "code",
   "execution_count": 5,
   "metadata": {},
   "outputs": [
    {
     "name": "stdout",
     "output_type": "stream",
     "text": [
      "foo\n"
     ]
    }
   ],
   "source": [
    "timer.setTimer(time.time()+5, foo)"
   ]
  },
  {
   "cell_type": "code",
   "execution_count": 6,
   "metadata": {},
   "outputs": [],
   "source": [
    "class JobScheduler:\n",
    "    def __init__(self, timer):\n",
    "        self.array = []\n",
    "        self.timer = timer\n",
    "\n",
    "    def addJob(self, timestamp, func):\n",
    "        self.array.append((timestamp, func))\n",
    "        self.array = sorted(self.array, key=lambda x: x[0])\n",
    "        self.timer.setTimer(self.array[0][0], self.helper)\n",
    "\n",
    "    def helper(self):\n",
    "        self.array[0][1]()\n",
    "        self.array.pop(0)\n",
    "        if self.array:\n",
    "            self.timer.setTimer(self.array[0][0], self.helper)"
   ]
  },
  {
   "cell_type": "code",
   "execution_count": 7,
   "metadata": {},
   "outputs": [],
   "source": [
    "scheduler = JobScheduler(timer)"
   ]
  },
  {
   "cell_type": "code",
   "execution_count": 8,
   "metadata": {},
   "outputs": [
    {
     "name": "stdout",
     "output_type": "stream",
     "text": [
      "foo\n"
     ]
    }
   ],
   "source": [
    "scheduler.addJob(time.time()+3, foo)"
   ]
  },
  {
   "cell_type": "code",
   "execution_count": 9,
   "metadata": {},
   "outputs": [
    {
     "name": "stdout",
     "output_type": "stream",
     "text": [
      "foo\n",
      "bar\n",
      "foo\n",
      "bar\n"
     ]
    }
   ],
   "source": [
    "scheduler.addJob(time.time()+3, foo)\n",
    "scheduler.addJob(time.time()+5, bar)\n",
    "scheduler.addJob(time.time()+9, bar)\n",
    "scheduler.addJob(time.time()+7, foo)"
   ]
  },
  {
   "cell_type": "code",
   "execution_count": 10,
   "metadata": {},
   "outputs": [],
   "source": []
  },
  {
   "cell_type": "code",
   "execution_count": null,
   "metadata": {},
   "outputs": [],
   "source": []
  }
 ],
 "metadata": {
  "kernelspec": {
   "display_name": "Python 3",
   "language": "python",
   "name": "python3"
  },
  "language_info": {
   "codemirror_mode": {
    "name": "ipython",
    "version": 3
   },
   "file_extension": ".py",
   "mimetype": "text/x-python",
   "name": "python",
   "nbconvert_exporter": "python",
   "pygments_lexer": "ipython3",
   "version": "3.7.3"
  }
 },
 "nbformat": 4,
 "nbformat_minor": 2
}
