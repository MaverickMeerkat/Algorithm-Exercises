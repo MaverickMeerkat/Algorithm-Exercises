{
 "cells": [
  {
   "cell_type": "code",
   "execution_count": 5,
   "metadata": {},
   "outputs": [
    {
     "data": {
      "text/plain": [
       "25"
      ]
     },
     "execution_count": 5,
     "metadata": {},
     "output_type": "execute_result"
    }
   ],
   "source": [
    "ord('z')-ord('a')"
   ]
  },
  {
   "cell_type": "code",
   "execution_count": 7,
   "metadata": {},
   "outputs": [
    {
     "data": {
      "text/plain": [
       "97"
      ]
     },
     "execution_count": 7,
     "metadata": {},
     "output_type": "execute_result"
    }
   ],
   "source": [
    "ord('a')"
   ]
  },
  {
   "cell_type": "code",
   "execution_count": 8,
   "metadata": {},
   "outputs": [
    {
     "data": {
      "text/plain": [
       "122"
      ]
     },
     "execution_count": 8,
     "metadata": {},
     "output_type": "execute_result"
    }
   ],
   "source": [
    "ord('z')"
   ]
  },
  {
   "cell_type": "code",
   "execution_count": 17,
   "metadata": {},
   "outputs": [],
   "source": [
    "def caesarCipherEncryptor(string, key):\n",
    "    newString = []\n",
    "    for c in string:\n",
    "        o = ord(c) - ord('a')\n",
    "        if o + key > ord('z') - ord('a'):\n",
    "            mod = (o + key) % (ord('z') - ord('a') + 1)\n",
    "            newString.append(chr(ord('a') + mod))\n",
    "        else:\n",
    "            newString.append(chr(ord('a') + o + key))\n",
    "    return \"\".join(newString)"
   ]
  },
  {
   "cell_type": "code",
   "execution_count": 350,
   "metadata": {},
   "outputs": [
    {
     "data": {
      "text/plain": [
       "'cde'"
      ]
     },
     "execution_count": 350,
     "metadata": {},
     "output_type": "execute_result"
    }
   ],
   "source": [
    "caesarCipherEncryptor(\"abc\", 2)"
   ]
  },
  {
   "cell_type": "code",
   "execution_count": 28,
   "metadata": {},
   "outputs": [],
   "source": [
    "def moveElementToEnd(array, toMove):\n",
    "    i = 0\n",
    "    j = len(array) - 1\n",
    "    while i < j:\n",
    "        while i < j and array[j] == toMove:\n",
    "            j -= 1\n",
    "        if array[i] == toMove:\n",
    "            array[i], array[j] = array[j], array[i]\n",
    "        i += 1\n",
    "    return array    "
   ]
  },
  {
   "cell_type": "code",
   "execution_count": 29,
   "metadata": {},
   "outputs": [
    {
     "data": {
      "text/plain": [
       "[4, 1, 3, 2, 2, 2, 2, 2]"
      ]
     },
     "execution_count": 29,
     "metadata": {},
     "output_type": "execute_result"
    }
   ],
   "source": [
    "moveElementToEnd([2, 1, 2, 2, 2, 3, 4, 2], 2)"
   ]
  },
  {
   "cell_type": "code",
   "execution_count": 30,
   "metadata": {},
   "outputs": [],
   "source": [
    "def moveElementToEnd(array, toMove):\n",
    "    j = len(array) - 1\n",
    "    for i in range(len(array)):\n",
    "        while j > 0 and array[j] == toMove:\n",
    "            j -= 1\n",
    "        if i >= j:\n",
    "            break\n",
    "        if array[i] == toMove:\n",
    "            swap(array, i, j)\n",
    "            j -= 1\n",
    "    return array\n",
    "\n",
    "def swap(array, i, j):\n",
    "    array[i], array[j] = array[j], array[i]"
   ]
  },
  {
   "cell_type": "code",
   "execution_count": null,
   "metadata": {},
   "outputs": [],
   "source": []
  },
  {
   "cell_type": "code",
   "execution_count": 54,
   "metadata": {},
   "outputs": [
    {
     "data": {
      "text/plain": [
       "[2, 1]"
      ]
     },
     "execution_count": 54,
     "metadata": {},
     "output_type": "execute_result"
    }
   ],
   "source": [
    "list(reversed(range(1, 3))) "
   ]
  },
  {
   "cell_type": "code",
   "execution_count": 33,
   "metadata": {},
   "outputs": [],
   "source": [
    "def minRewards(scores):\n",
    "    # stage 1: get slopes\n",
    "    slopes = []\n",
    "    up = scores[0] < scores[1]\n",
    "    j = 1\n",
    "    for i in range(len(scores)-1):\n",
    "        if scores[i] < scores[i+1]:\n",
    "            if up:\n",
    "                j += 1\n",
    "            else:\n",
    "                slopes.append((j,up))\n",
    "                up = True\n",
    "                j = 1\n",
    "        elif scores[i] > scores[i+1]:\n",
    "            if not up:\n",
    "                j += 1\n",
    "            else:\n",
    "                slopes.append((j,up))\n",
    "                up = False\n",
    "                j = 1\n",
    "    slopes.append((j,up))\n",
    "    \n",
    "    # stage 2: calculate grades\n",
    "    newScores = []\n",
    "    for n, up in slopes:\n",
    "        if up:\n",
    "            newScores.append(list(range(1, n + 1)))\n",
    "        else:\n",
    "            newScores.append(list(reversed(1, n + 1)))"
   ]
  },
  {
   "cell_type": "code",
   "execution_count": 84,
   "metadata": {},
   "outputs": [],
   "source": [
    "def minRewards(scores):\n",
    "    newScores = []\n",
    "    j = 0\n",
    "    newScores.append(j)\n",
    "    for i in range(len(scores)-1):\n",
    "        if scores[i] < scores[i+1]:\n",
    "            j += 1\n",
    "        elif scores[i] > scores[i+1]:\n",
    "            j -= 1\n",
    "        newScores.append(j)  \n",
    "    toAdd = 0 - min(newScores) + 1\n",
    "    for i in range(len(newScores)):\n",
    "        newScores[i] += toAdd\n",
    "    \n",
    "    if len(newScores) > 3:\n",
    "        i = 0\n",
    "        j = 1\n",
    "        while newScores[i] < newScores[i+1]:\n",
    "            newScores[i] = j\n",
    "            j += 1\n",
    "            i += 1\n",
    "\n",
    "        i = len(newScores) - 1\n",
    "        j = 1\n",
    "        while newScores[i] < newScores[i-1]:\n",
    "            newScores[i] = j\n",
    "            j += 1\n",
    "            i -= 1\n",
    "\n",
    "    return sum(newScores), newScores"
   ]
  },
  {
   "cell_type": "code",
   "execution_count": 103,
   "metadata": {},
   "outputs": [
    {
     "data": {
      "text/plain": [
       "[5, 4, 3, 2, 1]"
      ]
     },
     "execution_count": 103,
     "metadata": {},
     "output_type": "execute_result"
    }
   ],
   "source": [
    "list(reversed(range(1, 6)))"
   ]
  },
  {
   "cell_type": "code",
   "execution_count": 138,
   "metadata": {},
   "outputs": [],
   "source": [
    "# finally, something that works :-/\n",
    "def minRewards(scores):\n",
    "    if len(scores) == 0:\n",
    "        return 0\n",
    "    \n",
    "    if len(scores) == 1:\n",
    "        return 1\n",
    "    \n",
    "    if len(scores) == 2:\n",
    "        return 3\n",
    "    \n",
    "    newScores = scores.copy()\n",
    "    j = 0\n",
    "    for i in range(len(scores)-1):\n",
    "        if scores[i] < scores[i+1]:\n",
    "            j += 1\n",
    "            newScores[i] = j\n",
    "        else:\n",
    "            j = 0\n",
    "    if scores[-1] > scores[-2]:\n",
    "        newScores[-1] = newScores[-2] + 1\n",
    "\n",
    "    j = 0\n",
    "    for i in reversed(range(1, len(scores))):\n",
    "        if scores[i] < scores[i-1]:\n",
    "            j += 1\n",
    "            newScores[i] = j\n",
    "        else:\n",
    "            j = 0\n",
    "    if scores[0] > scores[1]:\n",
    "        newScores[0] = newScores[1] + 1\n",
    "\n",
    "    for i in range(1, len(scores)-1):\n",
    "        if newScores[i] > newScores[i-1] and newScores[i] > newScores[i+1]:\n",
    "            newScores[i] = max(newScores[i-1], newScores[i+1]) + 1\n",
    "    \n",
    "    return sum(newScores)"
   ]
  },
  {
   "cell_type": "code",
   "execution_count": 144,
   "metadata": {},
   "outputs": [],
   "source": [
    "# naive approach O(n^2) time O(n) space\n",
    "def minRewards(scores):\n",
    "    rewards = [1 for _ in scores]\n",
    "    for i in range(1, len(scores)):\n",
    "        j = i - 1\n",
    "        if scores[i] > scores[j]:\n",
    "            rewards[i] = rewards[j] + 1\n",
    "        else:\n",
    "            while j >= 0 and scores[j] > scores[j + 1]:\n",
    "                rewards[j] = max(rewards[j], rewards[j + 1] + 1)\n",
    "                j -= 1\n",
    "    return sum(rewards)"
   ]
  },
  {
   "cell_type": "code",
   "execution_count": 150,
   "metadata": {},
   "outputs": [],
   "source": [
    "# best solution\n",
    "def minRewards(scores):\n",
    "    newScores = [1 for _ in scores]\n",
    "    \n",
    "    for i in range(1, len(scores)):\n",
    "        if scores[i] > scores[i-1]:\n",
    "            newScores[i] = newScores[i-1] + 1\n",
    "    \n",
    "    for i in reversed(range(len(scores)-1)):\n",
    "        if scores[i] > scores[i+1]:\n",
    "            newScores[i] = max(newScores[i], newScores[i+1] + 1)\n",
    "                \n",
    "    return sum(newScores)"
   ]
  },
  {
   "cell_type": "code",
   "execution_count": 151,
   "metadata": {},
   "outputs": [
    {
     "data": {
      "text/plain": [
       "14"
      ]
     },
     "execution_count": 151,
     "metadata": {},
     "output_type": "execute_result"
    }
   ],
   "source": [
    "minRewards([5,2,1,7,9,5,3])"
   ]
  },
  {
   "cell_type": "code",
   "execution_count": 152,
   "metadata": {},
   "outputs": [
    {
     "data": {
      "text/plain": [
       "9"
      ]
     },
     "execution_count": 152,
     "metadata": {},
     "output_type": "execute_result"
    }
   ],
   "source": [
    "minRewards([0, 4, 2, 1, 3])"
   ]
  },
  {
   "cell_type": "code",
   "execution_count": 153,
   "metadata": {},
   "outputs": [
    {
     "data": {
      "text/plain": [
       "3"
      ]
     },
     "execution_count": 153,
     "metadata": {},
     "output_type": "execute_result"
    }
   ],
   "source": [
    "minRewards([5, 10])"
   ]
  },
  {
   "cell_type": "code",
   "execution_count": 154,
   "metadata": {},
   "outputs": [],
   "source": [
    "array = [800, 400, 20, 10, 30, 61, 70, 90, 17, 21, 22, 13, 12, 11, 8, 4, 2, 1, 3, 6, 7, 9, 0, 68, 55,67, 57, 60, 51, 661, 50, 65, 53]"
   ]
  },
  {
   "cell_type": "code",
   "execution_count": 155,
   "metadata": {},
   "outputs": [
    {
     "data": {
      "text/plain": [
       "93"
      ]
     },
     "execution_count": 155,
     "metadata": {},
     "output_type": "execute_result"
    }
   ],
   "source": [
    "minRewards(array)"
   ]
  },
  {
   "cell_type": "code",
   "execution_count": 156,
   "metadata": {},
   "outputs": [
    {
     "ename": "TypeError",
     "evalue": "unsupported operand type(s) for -: 'int' and 'NoneType'",
     "output_type": "error",
     "traceback": [
      "\u001b[1;31m---------------------------------------------------------------------------\u001b[0m",
      "\u001b[1;31mTypeError\u001b[0m                                 Traceback (most recent call last)",
      "\u001b[1;32m<ipython-input-156-e4b91419764c>\u001b[0m in \u001b[0;36m<module>\u001b[1;34m\u001b[0m\n\u001b[1;32m----> 1\u001b[1;33m \u001b[1;36m5\u001b[0m \u001b[1;33m-\u001b[0m \u001b[1;32mNone\u001b[0m\u001b[1;33m\u001b[0m\u001b[1;33m\u001b[0m\u001b[0m\n\u001b[0m",
      "\u001b[1;31mTypeError\u001b[0m: unsupported operand type(s) for -: 'int' and 'NoneType'"
     ]
    }
   ],
   "source": [
    "5 - None"
   ]
  },
  {
   "cell_type": "code",
   "execution_count": 157,
   "metadata": {},
   "outputs": [],
   "source": [
    "class BST:\n",
    "    def __init__(self, value):\n",
    "        self.value = value\n",
    "        self.left = None\n",
    "        self.right = None\n",
    "\n",
    "    def insert(self, value):\n",
    "        # Write your code here.\n",
    "        # Do not edit the return statement of this method.\n",
    "        if value < self.value:\n",
    "            if self.left is None:\n",
    "                self.left = BST(value)\n",
    "            else:\n",
    "                self.left.insert(value)\n",
    "        else:\n",
    "            if self.right is None:\n",
    "                self.right = BST(value)\n",
    "            else:\n",
    "                self.right.insert(value)\n",
    "        return self\n",
    "\n",
    "    def contains(self, value):\n",
    "        # Write your code here.\n",
    "        if self.value == value:\n",
    "            return True\n",
    "        if value < self.value and self.left is not None:\n",
    "            return self.left.contains(value)\n",
    "        if value > self.value and self.right is not None:\n",
    "            return self.right.contains(value)\n",
    "        return False\n",
    "\n",
    "    def remove(self, value):\n",
    "        # Write your code here.\n",
    "        # Do not edit the return statement of this method.\n",
    "        if value < self.value and self.left is not None:\n",
    "            self.left.remove(value)\n",
    "        if value > self.value and self.right is not None:\n",
    "            self.right.remove(value)\n",
    "        if self.value == value:\n",
    "            before_left = self.left\n",
    "            before_right = self.right\n",
    "            left = self.left\n",
    "            right = self.right\n",
    "            while before_left is not None and left.right is not None:\n",
    "                before_left = left\n",
    "                left = left.right\n",
    "            while before_right is not None and right.left is not None:\n",
    "                before_right = right\n",
    "                right = right.left\n",
    "\n",
    "            if left is not None and right is not None:\n",
    "                if abs(value - left.value) < abs(value - right.value):\n",
    "                    self.value = left.value\n",
    "                    before_left.right = left.left\n",
    "                else:\n",
    "                    self.value = right.value\n",
    "                    before_right.left = right.right\n",
    "            elif left is not None:\n",
    "                self.value = left.value\n",
    "                before_left.right = left.left\n",
    "            elif right is not None:\n",
    "                self.value = right.value\n",
    "                before_right.left = right.right\n",
    "        return self"
   ]
  },
  {
   "cell_type": "code",
   "execution_count": 164,
   "metadata": {},
   "outputs": [],
   "source": [
    "test4 = (BST(10)\n",
    "    .insert(5)\n",
    "    .insert(15)\n",
    "    .insert(22)\n",
    "    .insert(17)\n",
    "    .insert(34)\n",
    "    .insert(7)\n",
    "    .insert(2)\n",
    "    .insert(5)\n",
    "    .insert(1)\n",
    "    .insert(35)\n",
    "    .insert(27)\n",
    "    .insert(16)\n",
    "    .insert(30)\n",
    "    .remove(22)\n",
    "    .remove(17))"
   ]
  },
  {
   "cell_type": "code",
   "execution_count": 165,
   "metadata": {},
   "outputs": [
    {
     "data": {
      "text/plain": [
       "<__main__.BST at 0x248dce034e0>"
      ]
     },
     "execution_count": 165,
     "metadata": {},
     "output_type": "execute_result"
    }
   ],
   "source": [
    "test4"
   ]
  },
  {
   "cell_type": "code",
   "execution_count": 166,
   "metadata": {},
   "outputs": [],
   "source": [
    "def inOrderTraverse(tree, array):\n",
    "    if tree is not None:\n",
    "        inOrderTraverse(tree.left, array)\n",
    "        array.append(tree.value)\n",
    "        inOrderTraverse(tree.right, array)\n",
    "    return array"
   ]
  },
  {
   "cell_type": "code",
   "execution_count": 167,
   "metadata": {},
   "outputs": [
    {
     "data": {
      "text/plain": [
       "[1, 2, 5, 5, 7, 10, 15, 16, 17, 27, 30, 34, 35]"
      ]
     },
     "execution_count": 167,
     "metadata": {},
     "output_type": "execute_result"
    }
   ],
   "source": [
    "array = []\n",
    "inOrderTraverse(test4, array)\n",
    "array"
   ]
  },
  {
   "cell_type": "code",
   "execution_count": 175,
   "metadata": {},
   "outputs": [
    {
     "ename": "AttributeError",
     "evalue": "'NoneType' object has no attribute 'value'",
     "output_type": "error",
     "traceback": [
      "\u001b[1;31m---------------------------------------------------------------------------\u001b[0m",
      "\u001b[1;31mAttributeError\u001b[0m                            Traceback (most recent call last)",
      "\u001b[1;32m<ipython-input-175-daceb79f7fe3>\u001b[0m in \u001b[0;36m<module>\u001b[1;34m\u001b[0m\n\u001b[1;32m----> 1\u001b[1;33m \u001b[0mtest4\u001b[0m\u001b[1;33m.\u001b[0m\u001b[0mright\u001b[0m\u001b[1;33m.\u001b[0m\u001b[0mright\u001b[0m\u001b[1;33m.\u001b[0m\u001b[0mleft\u001b[0m\u001b[1;33m.\u001b[0m\u001b[0mright\u001b[0m\u001b[1;33m.\u001b[0m\u001b[0mvalue\u001b[0m\u001b[1;33m\u001b[0m\u001b[1;33m\u001b[0m\u001b[0m\n\u001b[0m",
      "\u001b[1;31mAttributeError\u001b[0m: 'NoneType' object has no attribute 'value'"
     ]
    }
   ],
   "source": [
    "test4.right.right.left.right.value"
   ]
  },
  {
   "cell_type": "code",
   "execution_count": 180,
   "metadata": {},
   "outputs": [],
   "source": [
    "# This is an input class. Do not edit.\n",
    "class BST:\n",
    "    def __init__(self, value):\n",
    "        self.value = value\n",
    "        self.left = None\n",
    "        self.right = None\n",
    "    def insert(self, value):\n",
    "        if value < self.value:\n",
    "            if self.left is None:\n",
    "                self.left = BST(value)\n",
    "            else:\n",
    "                self.left.insert(value)\n",
    "        else:\n",
    "            if self.right is None:\n",
    "                self.right = BST(value)\n",
    "            else:\n",
    "                self.right.insert(value)\n",
    "        return self"
   ]
  },
  {
   "cell_type": "code",
   "execution_count": 184,
   "metadata": {},
   "outputs": [],
   "source": [
    "# wrong - doesn't take into account test6 ...\n",
    "def validateBst(tree):\n",
    "    # Write your code here.\n",
    "    # leaf node\n",
    "    if tree.left is None and tree.right is None:\n",
    "        return True\n",
    "\n",
    "    left = right = True\n",
    "    if tree.left is not None:\n",
    "        left = tree.left.value <= tree.value\n",
    "        left = left and validateBst(tree.left)\n",
    "\n",
    "    if tree.right is not None:\n",
    "        right = tree.right.value >= tree.value\n",
    "        right = right and validateBst(tree.right)\n",
    "\n",
    "    return left and right"
   ]
  },
  {
   "cell_type": "code",
   "execution_count": 185,
   "metadata": {},
   "outputs": [],
   "source": [
    "test6 = BST(10).insert(5).insert(15).insert(5).insert(2).insert(1).insert(22)\n",
    "test6.left.right.right = BST(11) # oh oh... "
   ]
  },
  {
   "cell_type": "code",
   "execution_count": 186,
   "metadata": {},
   "outputs": [
    {
     "data": {
      "text/plain": [
       "True"
      ]
     },
     "execution_count": 186,
     "metadata": {},
     "output_type": "execute_result"
    }
   ],
   "source": [
    "validateBst(test6)"
   ]
  },
  {
   "cell_type": "code",
   "execution_count": 189,
   "metadata": {},
   "outputs": [
    {
     "data": {
      "text/plain": [
       "True"
      ]
     },
     "execution_count": 189,
     "metadata": {},
     "output_type": "execute_result"
    }
   ],
   "source": [
    "5 < float('inf')"
   ]
  },
  {
   "cell_type": "code",
   "execution_count": 200,
   "metadata": {},
   "outputs": [],
   "source": [
    "# works like a charm!\n",
    "def validate(node, minimum, maximum):\n",
    "    if node.value < minimum or node.value >= maximum:\n",
    "        return False\n",
    "    \n",
    "    if node.left is None and node.right is None:\n",
    "        return True\n",
    "    \n",
    "    left = right = True\n",
    "    if node.left is not None:\n",
    "        left = node.left.value <= node.value \n",
    "        left = left and validate(node.left, minimum, node.value)\n",
    "\n",
    "    if node.right is not None:\n",
    "        right = node.right.value >= node.value\n",
    "        right = right and validate(node.right, node.value, maximum)\n",
    "    \n",
    "    return left and right\n",
    "\n",
    "def validateBst(tree):\n",
    "    return validate(tree, float('-inf'), float('inf'))"
   ]
  },
  {
   "cell_type": "code",
   "execution_count": 201,
   "metadata": {},
   "outputs": [
    {
     "data": {
      "text/plain": [
       "False"
      ]
     },
     "execution_count": 201,
     "metadata": {},
     "output_type": "execute_result"
    }
   ],
   "source": [
    "validateBst(test6)"
   ]
  },
  {
   "cell_type": "code",
   "execution_count": 202,
   "metadata": {},
   "outputs": [],
   "source": [
    "test11 = BST(10).insert(5).insert(15)\n",
    "test11.left.right = BST(10)"
   ]
  },
  {
   "cell_type": "code",
   "execution_count": 203,
   "metadata": {},
   "outputs": [
    {
     "data": {
      "text/plain": [
       "False"
      ]
     },
     "execution_count": 203,
     "metadata": {},
     "output_type": "execute_result"
    }
   ],
   "source": [
    "validateBst(test11)"
   ]
  },
  {
   "cell_type": "code",
   "execution_count": 206,
   "metadata": {},
   "outputs": [],
   "source": [
    "# even more consice\n",
    "def validateBst(tree):\n",
    "    return validate(tree, float('-inf'), float('inf'))\n",
    "\n",
    "def validate(node, minV, maxV):\n",
    "    if node is None:\n",
    "        return True\n",
    "    if node.value < minV or node.value >= maxV:\n",
    "        return False\n",
    "    leftValid = validate(node.left, minV, node.value)\n",
    "    rightValid = validate(node.right, node.value, maxV)\n",
    "    return leftValid and rightValid"
   ]
  },
  {
   "cell_type": "code",
   "execution_count": 207,
   "metadata": {},
   "outputs": [
    {
     "data": {
      "text/plain": [
       "False"
      ]
     },
     "execution_count": 207,
     "metadata": {},
     "output_type": "execute_result"
    }
   ],
   "source": [
    "validateBst(test6)"
   ]
  },
  {
   "cell_type": "code",
   "execution_count": 208,
   "metadata": {},
   "outputs": [
    {
     "data": {
      "text/plain": [
       "False"
      ]
     },
     "execution_count": 208,
     "metadata": {},
     "output_type": "execute_result"
    }
   ],
   "source": [
    "validateBst(test11)"
   ]
  },
  {
   "cell_type": "code",
   "execution_count": 216,
   "metadata": {},
   "outputs": [],
   "source": [
    "from datetime import datetime"
   ]
  },
  {
   "cell_type": "code",
   "execution_count": 217,
   "metadata": {},
   "outputs": [],
   "source": [
    "time1 = datetime.strptime(\"10:30\", \"%H:%M\")\n",
    "time2 = datetime.strptime(\"11:30\", \"%H:%M\")"
   ]
  },
  {
   "cell_type": "code",
   "execution_count": 258,
   "metadata": {},
   "outputs": [],
   "source": [
    "delta = time1 - time2"
   ]
  },
  {
   "cell_type": "code",
   "execution_count": 263,
   "metadata": {},
   "outputs": [
    {
     "data": {
      "text/plain": [
       "-3600.0"
      ]
     },
     "execution_count": 263,
     "metadata": {},
     "output_type": "execute_result"
    }
   ],
   "source": [
    "delta.total_seconds()"
   ]
  },
  {
   "cell_type": "code",
   "execution_count": 259,
   "metadata": {},
   "outputs": [
    {
     "name": "stdout",
     "output_type": "stream",
     "text": [
      "big\n"
     ]
    }
   ],
   "source": [
    "if delta.seconds > 30:\n",
    "    print('big')"
   ]
  },
  {
   "cell_type": "code",
   "execution_count": 234,
   "metadata": {},
   "outputs": [
    {
     "data": {
      "text/plain": [
       "datetime.datetime(1900, 1, 1, 10, 30)"
      ]
     },
     "execution_count": 234,
     "metadata": {},
     "output_type": "execute_result"
    }
   ],
   "source": [
    "min(time1, time2)"
   ]
  },
  {
   "cell_type": "code",
   "execution_count": 236,
   "metadata": {},
   "outputs": [],
   "source": [
    "calendar1 = [['10:30','11:30'], ['12:00', \"12:30\"], ['14:00','15:00']]"
   ]
  },
  {
   "cell_type": "code",
   "execution_count": 239,
   "metadata": {},
   "outputs": [],
   "source": [
    "free1 = [datetime.strptime(calendar1[i+1][0], \"%H:%M\") - \n",
    "         datetime.strptime(calendar1[i][1], \"%H:%M\") for i in range(len(calendar1) - 1)]"
   ]
  },
  {
   "cell_type": "code",
   "execution_count": 240,
   "metadata": {},
   "outputs": [
    {
     "data": {
      "text/plain": [
       "[datetime.timedelta(seconds=1800), datetime.timedelta(seconds=5400)]"
      ]
     },
     "execution_count": 240,
     "metadata": {},
     "output_type": "execute_result"
    }
   ],
   "source": [
    "free1"
   ]
  },
  {
   "cell_type": "code",
   "execution_count": 289,
   "metadata": {},
   "outputs": [
    {
     "ename": "ValueError",
     "evalue": "Invalid format string",
     "output_type": "error",
     "traceback": [
      "\u001b[1;31m---------------------------------------------------------------------------\u001b[0m",
      "\u001b[1;31mValueError\u001b[0m                                Traceback (most recent call last)",
      "\u001b[1;32m<ipython-input-289-126e62ca8ffd>\u001b[0m in \u001b[0;36m<module>\u001b[1;34m\u001b[0m\n\u001b[1;32m----> 1\u001b[1;33m \u001b[0mtime1\u001b[0m\u001b[1;33m.\u001b[0m\u001b[0mstrftime\u001b[0m\u001b[1;33m(\u001b[0m\u001b[1;34m\"%-H:%M\"\u001b[0m\u001b[1;33m)\u001b[0m\u001b[1;33m\u001b[0m\u001b[1;33m\u001b[0m\u001b[0m\n\u001b[0m",
      "\u001b[1;31mValueError\u001b[0m: Invalid format string"
     ]
    }
   ],
   "source": [
    "time1.strftime(\"%-H:%M\")"
   ]
  },
  {
   "cell_type": "code",
   "execution_count": 340,
   "metadata": {},
   "outputs": [],
   "source": [
    "def calendarMatching(calendar1, dailyBounds1, calendar2, dailyBounds2, meetingDuration):\n",
    "    results = []\n",
    "\n",
    "    db1_s = datetime.strptime(dailyBounds1[0], \"%H:%M\")\n",
    "    db1_e = datetime.strptime(dailyBounds1[1], \"%H:%M\")\n",
    "    db2_s = datetime.strptime(dailyBounds2[0], \"%H:%M\")\n",
    "    db2_e = datetime.strptime(dailyBounds2[1], \"%H:%M\")\n",
    "    \n",
    "    total_bound = [max(db1_s, db2_s), min(db1_e, db2_e)]\n",
    "\n",
    "    meetings1 = [[datetime.strptime(m[0], \"%H:%M\"), datetime.strptime(m[1], \"%H:%M\")] for m in calendar1]\n",
    "    meetings2 = [[datetime.strptime(m[0], \"%H:%M\"), datetime.strptime(m[1], \"%H:%M\")] for m in calendar2]\n",
    "\n",
    "    if not meetings1 and not meetings2:\n",
    "        results.append([total_bound[0].strftime(\"%H:%M\"), total_bound[1].strftime(\"%H:%M\")])\n",
    "        return results\n",
    "    \n",
    "    i = j = 0\n",
    "    prev_meeting_end = total_bound[0]\n",
    "    a = b = True\n",
    "    while i != len(meetings1) or j != len(meetings2):\n",
    "        if i != len(meetings1) and j != len(meetings2):\n",
    "            if meetings1[i][0] <= meetings2[j][0]:\n",
    "                delta = meetings1[i][0] - prev_meeting_end\n",
    "                if delta.total_seconds() >= meetingDuration * 60:\n",
    "                    results.append([prev_meeting_end.strftime(\"%H:%M\"), meetings1[i][0].strftime(\"%H:%M\")])\n",
    "                    print(prev_meeting_end)\n",
    "                prev_meeting_end = max(prev_meeting_end, meetings1[i][1])\n",
    "                i += 1\n",
    "            else:\n",
    "                delta = meetings2[j][0] - prev_meeting_end\n",
    "                if delta.total_seconds() >= meetingDuration * 60:\n",
    "                    results.append([prev_meeting_end.strftime(\"%H:%M\"), meetings2[j][0].strftime(\"%H:%M\")])\n",
    "                prev_meeting_end = max(prev_meeting_end, meetings2[j][1])\n",
    "                j += 1\n",
    "        elif i != len(meetings1):\n",
    "            delta = meetings1[i][0] - prev_meeting_end\n",
    "            if delta.total_seconds() >= meetingDuration * 60:\n",
    "                results.append([prev_meeting_end.strftime(\"%H:%M\"), meetings1[i][0].strftime(\"%H:%M\")])\n",
    "            prev_meeting_end = max(prev_meeting_end, meetings1[i][1])\n",
    "            i += 1\n",
    "        elif j != len(meetings2):\n",
    "            delta = meetings2[j][0] - prev_meeting_end\n",
    "            if delta.total_seconds() >= meetingDuration * 60:\n",
    "                results.append([prev_meeting_end.strftime(\"%H:%M\"), meetings2[j][0].strftime(\"%H:%M\")])\n",
    "            prev_meeting_end = max(prev_meeting_end, meetings2[j][1])\n",
    "            j += 1\n",
    "            \n",
    "    prev_meeting_end = max(meetings1[-1][1], meetings2[-1][1])\n",
    "    delta = total_bound[1] - prev_meeting_end\n",
    "    if delta.total_seconds() >= meetingDuration * 60:\n",
    "        results.append([prev_meeting_end.strftime(\"%H:%M\"), total_bound[1].strftime(\"%H:%M\")])\n",
    "\n",
    "    return results"
   ]
  },
  {
   "cell_type": "code",
   "execution_count": 341,
   "metadata": {},
   "outputs": [],
   "source": [
    "calendar1 = []\n",
    "dailyBounds1 = [\"9:30\", \"20:00\"]\n",
    "calendar2 = []\n",
    "dailyBounds2 = [\"9:00\", \"16:30\"]\n",
    "meetingDuration = 60"
   ]
  },
  {
   "cell_type": "code",
   "execution_count": 342,
   "metadata": {},
   "outputs": [
    {
     "name": "stdout",
     "output_type": "stream",
     "text": [
      "[]\n"
     ]
    },
    {
     "ename": "IndexError",
     "evalue": "list index out of range",
     "output_type": "error",
     "traceback": [
      "\u001b[1;31m---------------------------------------------------------------------------\u001b[0m",
      "\u001b[1;31mIndexError\u001b[0m                                Traceback (most recent call last)",
      "\u001b[1;32m<ipython-input-342-4235ef7e4930>\u001b[0m in \u001b[0;36m<module>\u001b[1;34m\u001b[0m\n\u001b[1;32m----> 1\u001b[1;33m \u001b[0mcalendarMatching\u001b[0m\u001b[1;33m(\u001b[0m\u001b[0mcalendar1\u001b[0m\u001b[1;33m,\u001b[0m \u001b[0mdailyBounds1\u001b[0m\u001b[1;33m,\u001b[0m \u001b[0mcalendar2\u001b[0m\u001b[1;33m,\u001b[0m \u001b[0mdailyBounds2\u001b[0m\u001b[1;33m,\u001b[0m \u001b[0mmeetingDuration\u001b[0m\u001b[1;33m)\u001b[0m\u001b[1;33m\u001b[0m\u001b[1;33m\u001b[0m\u001b[0m\n\u001b[0m",
      "\u001b[1;32m<ipython-input-340-281ef4eb8516>\u001b[0m in \u001b[0;36mcalendarMatching\u001b[1;34m(calendar1, dailyBounds1, calendar2, dailyBounds2, meetingDuration)\u001b[0m\n\u001b[0;32m     43\u001b[0m             \u001b[0mj\u001b[0m \u001b[1;33m+=\u001b[0m \u001b[1;36m1\u001b[0m\u001b[1;33m\u001b[0m\u001b[1;33m\u001b[0m\u001b[0m\n\u001b[0;32m     44\u001b[0m \u001b[1;33m\u001b[0m\u001b[0m\n\u001b[1;32m---> 45\u001b[1;33m     \u001b[0mprev_meeting_end\u001b[0m \u001b[1;33m=\u001b[0m \u001b[0mmax\u001b[0m\u001b[1;33m(\u001b[0m\u001b[0mmeetings1\u001b[0m\u001b[1;33m[\u001b[0m\u001b[1;33m-\u001b[0m\u001b[1;36m1\u001b[0m\u001b[1;33m]\u001b[0m\u001b[1;33m[\u001b[0m\u001b[1;36m1\u001b[0m\u001b[1;33m]\u001b[0m\u001b[1;33m,\u001b[0m \u001b[0mmeetings2\u001b[0m\u001b[1;33m[\u001b[0m\u001b[1;33m-\u001b[0m\u001b[1;36m1\u001b[0m\u001b[1;33m]\u001b[0m\u001b[1;33m[\u001b[0m\u001b[1;36m1\u001b[0m\u001b[1;33m]\u001b[0m\u001b[1;33m)\u001b[0m\u001b[1;33m\u001b[0m\u001b[1;33m\u001b[0m\u001b[0m\n\u001b[0m\u001b[0;32m     46\u001b[0m     \u001b[0mdelta\u001b[0m \u001b[1;33m=\u001b[0m \u001b[0mtotal_bound\u001b[0m\u001b[1;33m[\u001b[0m\u001b[1;36m1\u001b[0m\u001b[1;33m]\u001b[0m \u001b[1;33m-\u001b[0m \u001b[0mprev_meeting_end\u001b[0m\u001b[1;33m\u001b[0m\u001b[1;33m\u001b[0m\u001b[0m\n\u001b[0;32m     47\u001b[0m     \u001b[1;32mif\u001b[0m \u001b[0mdelta\u001b[0m\u001b[1;33m.\u001b[0m\u001b[0mtotal_seconds\u001b[0m\u001b[1;33m(\u001b[0m\u001b[1;33m)\u001b[0m \u001b[1;33m>=\u001b[0m \u001b[0mmeetingDuration\u001b[0m \u001b[1;33m*\u001b[0m \u001b[1;36m60\u001b[0m\u001b[1;33m:\u001b[0m\u001b[1;33m\u001b[0m\u001b[1;33m\u001b[0m\u001b[0m\n",
      "\u001b[1;31mIndexError\u001b[0m: list index out of range"
     ]
    }
   ],
   "source": [
    "calendarMatching(calendar1, dailyBounds1, calendar2, dailyBounds2, meetingDuration)"
   ]
  },
  {
   "cell_type": "code",
   "execution_count": 344,
   "metadata": {},
   "outputs": [
    {
     "data": {
      "text/plain": [
       "[10, 30]"
      ]
     },
     "execution_count": 344,
     "metadata": {},
     "output_type": "execute_result"
    }
   ],
   "source": [
    "list(map(int, \"10:30\".split(\":\")))"
   ]
  },
  {
   "cell_type": "code",
   "execution_count": 347,
   "metadata": {},
   "outputs": [
    {
     "data": {
      "text/plain": [
       "[1, 2, 3]"
      ]
     },
     "execution_count": 347,
     "metadata": {},
     "output_type": "execute_result"
    }
   ],
   "source": [
    "list(map(lambda x: x+1, [0, 1, 2]))"
   ]
  },
  {
   "cell_type": "code",
   "execution_count": null,
   "metadata": {},
   "outputs": [],
   "source": [
    "list(map(lambda ))"
   ]
  },
  {
   "cell_type": "code",
   "execution_count": 349,
   "metadata": {},
   "outputs": [
    {
     "data": {
      "text/plain": [
       "7"
      ]
     },
     "execution_count": 349,
     "metadata": {},
     "output_type": "execute_result"
    }
   ],
   "source": [
    "5 + \\\n",
    "2"
   ]
  },
  {
   "cell_type": "code",
   "execution_count": null,
   "metadata": {},
   "outputs": [],
   "source": []
  }
 ],
 "metadata": {
  "kernelspec": {
   "display_name": "Python 3",
   "language": "python",
   "name": "python3"
  },
  "language_info": {
   "codemirror_mode": {
    "name": "ipython",
    "version": 3
   },
   "file_extension": ".py",
   "mimetype": "text/x-python",
   "name": "python",
   "nbconvert_exporter": "python",
   "pygments_lexer": "ipython3",
   "version": "3.7.3"
  }
 },
 "nbformat": 4,
 "nbformat_minor": 2
}
