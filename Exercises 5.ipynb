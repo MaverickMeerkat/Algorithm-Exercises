{
 "cells": [
  {
   "cell_type": "code",
   "execution_count": 2,
   "metadata": {},
   "outputs": [],
   "source": [
    "class BinaryTree:\n",
    "    def __init__(self, value):\n",
    "        self.value = value\n",
    "        self.left = None\n",
    "        self.right = None\n",
    "\n",
    "    def insert(self, values, i=0):\n",
    "        if i >= len(values):\n",
    "            return\n",
    "        queue = [self]\n",
    "        while len(queue) > 0:\n",
    "            current = queue.pop(0)\n",
    "            if current.left is None:\n",
    "                current.left = BinaryTree(values[i])\n",
    "                break\n",
    "            queue.append(current.left)\n",
    "            if current.right is None:\n",
    "                current.right = BinaryTree(values[i])\n",
    "                break\n",
    "            queue.append(current.right)\n",
    "        self.insert(values, i + 1)\n",
    "        return self"
   ]
  },
  {
   "cell_type": "code",
   "execution_count": 3,
   "metadata": {},
   "outputs": [],
   "source": [
    "def branchSums(root):\n",
    "    array = []\n",
    "    traverseTree(root, array, 0)\n",
    "    return array\n",
    "    \n",
    "def traverseTree(node, array, currSum):\n",
    "    currSum += node.value\n",
    "    \n",
    "    if node.left == None and node.right == None:\n",
    "        array.append(currSum)\n",
    "    \n",
    "    if node.left != None:\n",
    "        traverseTree(node.left, array, currSum)\n",
    "    \n",
    "    if node.right != None:\n",
    "        traverseTree(node.right, array, currSum)"
   ]
  },
  {
   "cell_type": "code",
   "execution_count": 4,
   "metadata": {},
   "outputs": [
    {
     "data": {
      "text/plain": [
       "1"
      ]
     },
     "execution_count": 4,
     "metadata": {},
     "output_type": "execute_result"
    }
   ],
   "source": [
    "min(1, 2, 3)"
   ]
  },
  {
   "cell_type": "code",
   "execution_count": null,
   "metadata": {},
   "outputs": [],
   "source": [
    "def levenshteinDistance(str1, str2):\n",
    "    operations = 0\n",
    "    i = j = 0\n",
    "    while i < len(str1) and j <  len(str2):\n",
    "        I = len(str1) - i\n",
    "        J = len(str2) - j\n",
    "        if str1[i] == str2[j]:\n",
    "            i += 1\n",
    "            j += 1\n",
    "        elif I < J:\n",
    "            operations += 1 # insert\n",
    "            j += 1\n",
    "        elif I > J:\n",
    "            operations += 1 # deletion\n",
    "            i += 1\n",
    "        elif I == J:\n",
    "            cand1 = levenshteinDistance(str1[i+1:], str2[j:])\n",
    "            cand2 = levenshteinDistance(str1[i:], str2[j+1:])\n",
    "            cand3 = levenshteinDistance(str1[i+1:], str2[j+1:])\n",
    "            operations += 1 + min(cand1, cand2, cand3)\n",
    "            return operations\n",
    "    if i < len(str1):\n",
    "        operations += len(str1) - i\n",
    "    if j < len(str2):\n",
    "        operations += len(str2) - j\n",
    "    return operations"
   ]
  },
  {
   "cell_type": "code",
   "execution_count": 21,
   "metadata": {},
   "outputs": [],
   "source": [
    "# this works, but in a bad time complexity - of 3^n\n",
    "\n",
    "def levenshteinDistance(str1, str2):\n",
    "    return helper(str1, str2, 0, 0)\n",
    "\n",
    "def helper(str1, str2, i, j):\n",
    "    while i < len(str1) and j < len(str2) and str1[i] == str2[j]:\n",
    "        i += 1\n",
    "        j += 1\n",
    "    if i >= len(str1) and j >= len(str2):\n",
    "        return 0\n",
    "    if i >= len(str1):\n",
    "        return len(str2) - j\n",
    "    if j >= len(str1):\n",
    "        return len(str1) - i\n",
    "\n",
    "    cand1 = helper(str1, str2, i+1, j)  # deletion\n",
    "    cand2 = helper(str1, str2, i, j+1)  # addition\n",
    "    cand3 = helper(str1, str2, i+1, j+1)  # substitution\n",
    "    operations = 1 + min(cand1, cand2, cand3)\n",
    "    return operations"
   ]
  },
  {
   "cell_type": "code",
   "execution_count": 31,
   "metadata": {},
   "outputs": [
    {
     "data": {
      "text/plain": [
       "2"
      ]
     },
     "execution_count": 31,
     "metadata": {},
     "output_type": "execute_result"
    }
   ],
   "source": [
    "levenshteinDistance(\"xabc\", \"abcx\")"
   ]
  },
  {
   "cell_type": "code",
   "execution_count": 32,
   "metadata": {},
   "outputs": [],
   "source": [
    "# lets use dynamic programming - O(mn) for time and space\n",
    "def levenshteinDistance(str1, str2):\n",
    "    # create the empty m x n matrix and put 0...n , 0...m in the first row and column\n",
    "    # rows are the destination, cols are the source - but can be swapped arbitrarily\n",
    "    edits = [[x for x in range(len(str1) + 1)] for y in range(len(str2) + 1)]\n",
    "    for i in range(1, len(edits)):\n",
    "        edits[i][0] = edits[i-1][0] + 1\n",
    "    # note that all the rows are actually 0, 1, ... n = even though that is unnecessary - \n",
    "    # only the 1st row is important for setup\n",
    "    \n",
    "    for i in range(1, len(edits)):\n",
    "        for j in range(1, len(edits[0])):\n",
    "            if str2[i-1] == str1[j-1]:  # -1 because table has +1 for row and col more than actual strings\n",
    "                edits[i][j] = edits[i-1][j-1]  # last char is identical, you can ignore it in total calculation\n",
    "            else:\n",
    "                edits[i][j] = 1 + min(edits[i-1][j-1],  # substitution\n",
    "                                     edits[i-1][j],     # deletion\n",
    "                                     edits[i][j-1])     # insertion\n",
    "    return edits[-1][-1]"
   ]
  },
  {
   "cell_type": "code",
   "execution_count": 33,
   "metadata": {},
   "outputs": [
    {
     "data": {
      "text/plain": [
       "2"
      ]
     },
     "execution_count": 33,
     "metadata": {},
     "output_type": "execute_result"
    }
   ],
   "source": [
    "levenshteinDistance(\"xabc\", \"abcx\")"
   ]
  },
  {
   "cell_type": "code",
   "execution_count": 36,
   "metadata": {},
   "outputs": [
    {
     "data": {
      "text/plain": [
       "2"
      ]
     },
     "execution_count": 36,
     "metadata": {},
     "output_type": "execute_result"
    }
   ],
   "source": [
    "sum([True, False, True])"
   ]
  },
  {
   "cell_type": "code",
   "execution_count": 37,
   "metadata": {},
   "outputs": [
    {
     "data": {
      "text/plain": [
       "9"
      ]
     },
     "execution_count": 37,
     "metadata": {},
     "output_type": "execute_result"
    }
   ],
   "source": [
    "-1%10"
   ]
  },
  {
   "cell_type": "code",
   "execution_count": 48,
   "metadata": {},
   "outputs": [],
   "source": [
    "# O(n) time, O(n) space\n",
    "def hasSingleCycle(array):\n",
    "    copy = [0 for x in array]\n",
    "    index = 0\n",
    "    while True:\n",
    "        if copy[index] == 1:\n",
    "            break\n",
    "        copy[index] = 1\n",
    "        index = (index + array[index]) % len(array)\n",
    "\n",
    "    return sum(copy) == len(array) and index == 0"
   ]
  },
  {
   "cell_type": "code",
   "execution_count": 49,
   "metadata": {},
   "outputs": [
    {
     "data": {
      "text/plain": [
       "False"
      ]
     },
     "execution_count": 49,
     "metadata": {},
     "output_type": "execute_result"
    }
   ],
   "source": [
    "hasSingleCycle([1, 1, 1, 1, 2])"
   ]
  },
  {
   "cell_type": "code",
   "execution_count": 50,
   "metadata": {},
   "outputs": [
    {
     "data": {
      "text/plain": [
       "True"
      ]
     },
     "execution_count": 50,
     "metadata": {},
     "output_type": "execute_result"
    }
   ],
   "source": [
    "hasSingleCycle([2, 2, -1])"
   ]
  },
  {
   "cell_type": "code",
   "execution_count": 56,
   "metadata": {},
   "outputs": [],
   "source": [
    "# O(n) time, O(1) space\n",
    "def hasSingleCycle(array):\n",
    "    numVisited = 0\n",
    "    index = 0\n",
    "    while numVisited < len(array):\n",
    "        if index == 0 and numVisited > 0:\n",
    "            return False\n",
    "        numVisited += 1\n",
    "        index = (index + array[index]) % len(array)\n",
    "\n",
    "    return index == 0"
   ]
  },
  {
   "cell_type": "code",
   "execution_count": 57,
   "metadata": {},
   "outputs": [
    {
     "data": {
      "text/plain": [
       "False"
      ]
     },
     "execution_count": 57,
     "metadata": {},
     "output_type": "execute_result"
    }
   ],
   "source": [
    "hasSingleCycle([1, 1, 1, 1, 2])"
   ]
  },
  {
   "cell_type": "code",
   "execution_count": 58,
   "metadata": {},
   "outputs": [
    {
     "data": {
      "text/plain": [
       "True"
      ]
     },
     "execution_count": 58,
     "metadata": {},
     "output_type": "execute_result"
    }
   ],
   "source": [
    "hasSingleCycle([2, 2, -1])"
   ]
  },
  {
   "cell_type": "code",
   "execution_count": 153,
   "metadata": {},
   "outputs": [],
   "source": [
    "def boggleBoard(board, words):\n",
    "    results = []\n",
    "    remainingWords = words.copy()\n",
    "    i = j = 0\n",
    "    I, J = len(board), len(board[0])\n",
    "    for i in range(len(board)):\n",
    "        for j in range(len(board[0])):\n",
    "            for word in remainingWords:\n",
    "                result = False\n",
    "                if board[i][j] == word[0]:\n",
    "                    result = searchWord(word, board, i, j, [])\n",
    "                if result:\n",
    "                    results.append(word)\n",
    "            for w in results:\n",
    "                if w in remainingWords:\n",
    "                    remainingWords.remove(w)\n",
    "    return results\n",
    "\n",
    "def searchWord(word, board, i, j, been):\n",
    "    result = False\n",
    "    if len(word) < 2:\n",
    "        return True\n",
    "\n",
    "    been.append((i,j))\n",
    "\n",
    "    # i, j+1 - right\n",
    "    if j+1 < len(board[0]) and word[1] == board[i][j+1] and (i, j+1) not in been:\n",
    "        result |= searchWord(word[1:], board, i, j+1, been.copy())\n",
    "    # i+1, j+1 - right-down\n",
    "    if j+1 < len(board[0]) and i+1 < len(board) and word[1] == board[i+1][j+1] and (i+1, j+1) not in been:\n",
    "        result |= searchWord(word[1:], board, i+1, j+1, been.copy())\n",
    "    # i+1, j - down\n",
    "    if i+1 < len(board) and word[1] == board[i+1][j] and (i+1, j) not in been:\n",
    "        result |= searchWord(word[1:], board, i+1, j, been.copy())\n",
    "    # i+1, j-1 - down-left\n",
    "    if i+1 < len(board) and j-1 >= 0 and word[1] == board[i+1][j-1] and (i+1, j-1) not in been:\n",
    "        result |= searchWord(word[1:], board, i+1, j-1, been.copy())\n",
    "    # i, j-1 - left\n",
    "    if j-1 >= 0 and word[1] == board[i][j-1] and (i, j-1) not in been:\n",
    "        result |= searchWord(word[1:], board, i, j-1, been.copy())\n",
    "    # i-1, j-1 - left-up\n",
    "    if i-1 >= 0 and j-1 >= 0 and word[1] == board[i-1][j-1] and (i-1, j-1) not in been:\n",
    "        result |= searchWord(word[1:], board, i-1, j-1, been.copy())\n",
    "    # i-1, j - up\n",
    "    if i-1 >= 0 and word[1] == board[i-1][j] and (i-1, j) not in been:\n",
    "        result |= searchWord(word[1:], board, i-1, j, been.copy())\n",
    "    # i-1, j+1 - up-right\n",
    "    if i-1 >= 0 and j+1 < len(board[0]) and word[1] == board[i-1][j+1] and (i-1, j+1) not in been:\n",
    "        result |= searchWord(word[1:], board, i-1, j+1, been.copy())\n",
    "\n",
    "    return result"
   ]
  },
  {
   "cell_type": "code",
   "execution_count": 154,
   "metadata": {},
   "outputs": [],
   "source": [
    "import unittest\n",
    "class TestProgram(unittest.TestCase):\n",
    "\n",
    "    def test_case_2(self):\n",
    "        board = [\n",
    "            [\"a\", \"b\", \"c\", \"d\", \"e\"],\n",
    "            [\"f\", \"g\", \"h\", \"i\", \"j\"],\n",
    "            [\"k\", \"l\", \"m\", \"n\", \"o\"],\n",
    "            [\"p\", \"q\", \"r\", \"s\", \"t\"],\n",
    "            [\"u\", \"v\", \"w\", \"x\", \"y\"],\n",
    "        ]\n",
    "        words = [\"agmsytojed\", \"agmsytojedinhcbfl\"]\n",
    "        expected = [\"agmsytojed\", \"agmsytojedinhcbfl\"]\n",
    "        actual = boggleBoard(board, words)\n",
    "        print(actual)\n",
    "        self.assertEqual(len(actual), len(expected))\n",
    "        for word in actual:\n",
    "            self.assertTrue(word in expected)\n",
    "            \n",
    "    def test_case_6(self):\n",
    "        board = [\n",
    "            [\"c\", \"o\", \"m\"],\n",
    "            [\"r\", \"p\", \"l\"],\n",
    "            [\"c\", \"i\", \"t\"],\n",
    "            [\"o\", \"a\", \"e\"],\n",
    "            [\"f\", \"o\", \"d\"],\n",
    "            [\"z\", \"r\", \"b\"],\n",
    "            [\"g\", \"i\", \"a\"],\n",
    "            [\"o\", \"a\", \"g\"],\n",
    "            [\"f\", \"s\", \"z\"],\n",
    "            [\"t\", \"e\", \"i\"],\n",
    "            [\"t\", \"w\", \"d\"],\n",
    "        ]\n",
    "        words = [\n",
    "            \"cr\",\n",
    "            \"oc\",\n",
    "            \"ml\",\n",
    "            \"iao\",\n",
    "            \"opo\",\n",
    "            \"zrb\",\n",
    "            \"big\",\n",
    "            \"fs\",\n",
    "            \"ogiagao\",\n",
    "            \"dwd\",\n",
    "            \"twt\",\n",
    "        ]\n",
    "        expected = [\"cr\", \"oc\", \"ml\", \"iao\", \"zrb\", \"big\", \"fs\", \"twt\"]\n",
    "        actual = boggleBoard(board, words)\n",
    "        self.assertEqual(len(actual), len(expected))\n",
    "        for word in actual:\n",
    "            self.assertTrue(word in expected)"
   ]
  },
  {
   "cell_type": "code",
   "execution_count": 155,
   "metadata": {},
   "outputs": [
    {
     "name": "stdout",
     "output_type": "stream",
     "text": [
      "cr\n",
      "oc\n",
      "opo\n",
      "ogiagao\n",
      "ml\n",
      "iao\n",
      "twt\n",
      "opo\n",
      "ogiagao\n",
      "fs\n",
      "opo\n",
      "ogiagao\n",
      "dwd\n",
      "zrb\n",
      "big\n",
      "opo\n",
      "ogiagao\n",
      "fs\n",
      "twt\n",
      "dwd\n"
     ]
    }
   ],
   "source": [
    "t = TestProgram()\n",
    "t.test_case_6()"
   ]
  },
  {
   "cell_type": "code",
   "execution_count": 146,
   "metadata": {},
   "outputs": [
    {
     "name": "stdout",
     "output_type": "stream",
     "text": [
      "-\n",
      "-\n"
     ]
    }
   ],
   "source": [
    "a = ['a', 'b', 'c']\n",
    "for aa in a:\n",
    "    if aa == 'b':\n",
    "        a.remove(aa)\n",
    "    print('-')"
   ]
  },
  {
   "cell_type": "code",
   "execution_count": 98,
   "metadata": {},
   "outputs": [
    {
     "data": {
      "text/plain": [
       "['a', 'c']"
      ]
     },
     "execution_count": 98,
     "metadata": {},
     "output_type": "execute_result"
    }
   ],
   "source": [
    "a"
   ]
  },
  {
   "cell_type": "code",
   "execution_count": 89,
   "metadata": {},
   "outputs": [],
   "source": [
    "a |= True"
   ]
  },
  {
   "cell_type": "code",
   "execution_count": 90,
   "metadata": {},
   "outputs": [
    {
     "data": {
      "text/plain": [
       "True"
      ]
     },
     "execution_count": 90,
     "metadata": {},
     "output_type": "execute_result"
    }
   ],
   "source": [
    "a"
   ]
  },
  {
   "cell_type": "code",
   "execution_count": 156,
   "metadata": {},
   "outputs": [],
   "source": [
    "def productSum(array, depth=1):\n",
    "    result = 0\n",
    "    for e in array:\n",
    "        if isinstance(e, list):\n",
    "            depth += 1\n",
    "            result += depth * productSum(e, depth)\n",
    "        else:\n",
    "            result += e\n",
    "    return result"
   ]
  },
  {
   "cell_type": "code",
   "execution_count": 157,
   "metadata": {},
   "outputs": [],
   "source": [
    "test = [\n",
    "            9,\n",
    "            [2, -3, 4],\n",
    "            1,\n",
    "            [1, 1, [1, 1, 1]],\n",
    "            [[[[3, 4, 1]]], 8],\n",
    "            [1, 2, 3, 4, 5, [6, 7], -7],\n",
    "            [1, [2, 3, [4, 5]], [6, 0, [7, 0, -8]], -7],\n",
    "            [1, -3, 2, [1, -3, 2, [1, -3, 2], [1, -3, 2, [1, -3, 2]], [1, -3, 2]]],\n",
    "            -3,\n",
    "        ]"
   ]
  },
  {
   "cell_type": "code",
   "execution_count": 158,
   "metadata": {},
   "outputs": [
    {
     "data": {
      "text/plain": [
       "10291"
      ]
     },
     "execution_count": 158,
     "metadata": {},
     "output_type": "execute_result"
    }
   ],
   "source": [
    "productSum(test)"
   ]
  },
  {
   "cell_type": "code",
   "execution_count": null,
   "metadata": {},
   "outputs": [],
   "source": []
  }
 ],
 "metadata": {
  "kernelspec": {
   "display_name": "Python 3",
   "language": "python",
   "name": "python3"
  },
  "language_info": {
   "codemirror_mode": {
    "name": "ipython",
    "version": 3
   },
   "file_extension": ".py",
   "mimetype": "text/x-python",
   "name": "python",
   "nbconvert_exporter": "python",
   "pygments_lexer": "ipython3",
   "version": "3.7.3"
  }
 },
 "nbformat": 4,
 "nbformat_minor": 2
}
