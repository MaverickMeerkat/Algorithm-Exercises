{
 "cells": [
  {
   "cell_type": "markdown",
   "metadata": {},
   "source": [
    "# Boggle Board"
   ]
  },
  {
   "cell_type": "code",
   "execution_count": null,
   "metadata": {},
   "outputs": [],
   "source": [
    "# 2nd iteration - replace the copy of been with one been object\n",
    "# time complexity - n*m*w*8^s - \n",
    "#                   n - number of rows, \n",
    "#                   m - number of cols, \n",
    "#                   w - number of words, \n",
    "#                   s - length of longest word present in the board\n",
    "# in reality I'm removing found words, so it won't be w, but rather smaller than that\n",
    "\n",
    "def boggleBoard(board, words):\n",
    "    results = []\n",
    "    remainingWords = words.copy()\n",
    "    i = j = 0\n",
    "    I, J = len(board), len(board[0])\n",
    "    been = [[0 for j in range(J)] for i in range(I)]\n",
    "    for i in range(len(board)):\n",
    "        for j in range(len(board[0])):\n",
    "            for word in remainingWords:\n",
    "                result = False\n",
    "                if board[i][j] == word[0]:\n",
    "                    result = searchWord(word, board, i, j, been)\n",
    "                if result:\n",
    "                    results.append(word)\n",
    "            for w in results:\n",
    "                if w in remainingWords:\n",
    "                    remainingWords.remove(w)\n",
    "    return results\n",
    "\n",
    "def searchWord(word, board, i, j, been):\n",
    "    result = False\n",
    "    if len(word) < 2:\n",
    "        return True\n",
    "\n",
    "    been[i][j] = 1\n",
    "\n",
    "    # i, j+1 - right\n",
    "    if j+1 < len(board[0]) and word[1] == board[i][j+1] and not been[i][j+1]:\n",
    "        result |= searchWord(word[1:], board, i, j+1, been)\n",
    "    # i+1, j+1 - right-down\n",
    "    if j+1 < len(board[0]) and i+1 < len(board) and word[1] == board[i+1][j+1] and not been[i+1][j+1] :\n",
    "        result |= searchWord(word[1:], board, i+1, j+1, been)\n",
    "    # i+1, j - down\n",
    "    if i+1 < len(board) and word[1] == board[i+1][j] and not been[i+1][j]:\n",
    "        result |= searchWord(word[1:], board, i+1, j, been)\n",
    "    # i+1, j-1 - down-left\n",
    "    if i+1 < len(board) and j-1 >= 0 and word[1] == board[i+1][j-1] and not been[i+1][j-1]:\n",
    "        result |= searchWord(word[1:], board, i+1, j-1, been)\n",
    "    # i, j-1 - left\n",
    "    if j-1 >= 0 and word[1] == board[i][j-1] and not been[i][j-1]:\n",
    "        result |= searchWord(word[1:], board, i, j-1, been)\n",
    "    # i-1, j-1 - left-up\n",
    "    if i-1 >= 0 and j-1 >= 0 and word[1] == board[i-1][j-1] and not been[i-1][j-1]:\n",
    "        result |= searchWord(word[1:], board, i-1, j-1, been)\n",
    "    # i-1, j - up\n",
    "    if i-1 >= 0 and word[1] == board[i-1][j] and not been[i-1][j]:\n",
    "        result |= searchWord(word[1:], board, i-1, j, been)\n",
    "    # i-1, j+1 - up-right\n",
    "    if i-1 >= 0 and j+1 < len(board[0]) and word[1] == board[i-1][j+1] and not been[i-1][j+1]:\n",
    "        result |= searchWord(word[1:], board, i-1, j+1, been)\n",
    "\n",
    "    been[i][j] = 0\n",
    "        \n",
    "    return result"
   ]
  },
  {
   "cell_type": "code",
   "execution_count": 11,
   "metadata": {},
   "outputs": [],
   "source": [
    "# 3rd iteration - using a Trie - to reduce the letter lookup to basically a constant time\n",
    "# time complexity - m*n*8^s + w*s', where s' is length of longest word in the words array\n",
    "\n",
    "class Trie:\n",
    "    def __init__(self):\n",
    "        self.root = {}\n",
    "        self.endSymbol = \"*\"\n",
    "        \n",
    "    def add(self, word):\n",
    "        current = self.root\n",
    "        for letter in word:\n",
    "            if letter not in current:\n",
    "                current[letter] = {}\n",
    "            current = current[letter]\n",
    "        current[self.endSymbol] = word\n",
    "\n",
    "def boggleBoard(board, words):\n",
    "    trie = Trie()\n",
    "    for word in words:\n",
    "        trie.add(word)\n",
    "        \n",
    "    results = []\n",
    "    i = j = 0\n",
    "    I, J = len(board), len(board[0])\n",
    "    been = [[0 for j in range(J)] for i in range(I)]\n",
    "    for i in range(I):\n",
    "        for j in range(J):\n",
    "                if board[i][j] in trie.root:\n",
    "                    searchWord(trie.root[board[i][j]], board, i, j, been, results)\n",
    "    return results\n",
    "\n",
    "def searchWord(node, board, i, j, been, results):\n",
    "    been[i][j] = 1\n",
    "\n",
    "    for l in node:\n",
    "        if (l == \"*\"):\n",
    "            if (node[l] not in results):\n",
    "                results.append(node[l])\n",
    "            continue\n",
    "\n",
    "        # i, j+1 - right\n",
    "        if j+1 < len(board[0]) and l == board[i][j+1] and not been[i][j+1]:\n",
    "            searchWord(node[l], board, i, j+1, been, results)\n",
    "        # i+1, j+1 - right-down\n",
    "        if j+1 < len(board[0]) and i+1 < len(board) and l == board[i+1][j+1] and not been[i+1][j+1] :\n",
    "            searchWord(node[l], board, i+1, j+1, been, results)\n",
    "        # i+1, j - down\n",
    "        if i+1 < len(board) and l == board[i+1][j] and not been[i+1][j]:\n",
    "            searchWord(node[l], board, i+1, j, been, results)\n",
    "        # i+1, j-1 - down-left\n",
    "        if i+1 < len(board) and j-1 >= 0 and l == board[i+1][j-1] and not been[i+1][j-1]:\n",
    "            searchWord(node[l], board, i+1, j-1, been, results)\n",
    "        # i, j-1 - left\n",
    "        if j-1 >= 0 and l == board[i][j-1] and not been[i][j-1]:\n",
    "            searchWord(node[l], board, i, j-1, been, results)\n",
    "        # i-1, j-1 - left-up\n",
    "        if i-1 >= 0 and j-1 >= 0 and l == board[i-1][j-1] and not been[i-1][j-1]:\n",
    "            searchWord(node[l], board, i-1, j-1, been, results)\n",
    "        # i-1, j - up\n",
    "        if i-1 >= 0 and l == board[i-1][j] and not been[i-1][j]:\n",
    "            searchWord(node[l], board, i-1, j, been, results)\n",
    "        # i-1, j+1 - up-right\n",
    "        if i-1 >= 0 and j+1 < len(board[0]) and l == board[i-1][j+1] and not been[i-1][j+1]:\n",
    "            searchWord(node[l], board, i-1, j+1, been, results)\n",
    "\n",
    "    been[i][j] = 0"
   ]
  },
  {
   "cell_type": "code",
   "execution_count": 58,
   "metadata": {},
   "outputs": [
    {
     "data": {
      "text/plain": [
       "['yours', 'help', 'danger', 'san', 'at']"
      ]
     },
     "execution_count": 58,
     "metadata": {},
     "output_type": "execute_result"
    }
   ],
   "source": [
    "board = [\n",
    "    [\"y\", \"g\", \"f\", \"y\", \"e\", \"i\"],\n",
    "    [\"c\", \"o\", \"r\", \"p\", \"o\", \"u\"],\n",
    "    [\"j\", \"u\", \"z\", \"s\", \"e\", \"l\"],\n",
    "    [\"s\", \"y\", \"u\", \"r\", \"h\", \"p\"],\n",
    "    [\"e\", \"a\", \"e\", \"g\", \"n\", \"d\"],\n",
    "    [\"h\", \"e\", \"l\", \"s\", \"a\", \"t\"],\n",
    "]\n",
    "words = [\n",
    "    \"san\",\n",
    "    \"sana\",\n",
    "    \"at\",\n",
    "    \"vomit\",\n",
    "    \"yours\",\n",
    "    \"help\",\n",
    "    \"end\",\n",
    "    \"been\",\n",
    "    \"bed\",\n",
    "    \"danger\",\n",
    "    \"calm\",\n",
    "    \"ok\",\n",
    "    \"chaos\",\n",
    "    \"complete\",\n",
    "    \"rear\",\n",
    "    \"going\",\n",
    "    \"storm\",\n",
    "    \"face\",\n",
    "    \"epual\",\n",
    "    \"dangerous\",\n",
    "]\n",
    "expected = [\"yours\", \"help\", \"danger\", \"san\", \"at\"]\n",
    "boggleBoard(board, words)"
   ]
  },
  {
   "cell_type": "code",
   "execution_count": 47,
   "metadata": {},
   "outputs": [],
   "source": [
    "s = {'a': {\"1\":5}, 'b':{\"2\":6}}"
   ]
  },
  {
   "cell_type": "code",
   "execution_count": 14,
   "metadata": {},
   "outputs": [
    {
     "name": "stdout",
     "output_type": "stream",
     "text": [
      "a\n",
      "b\n"
     ]
    }
   ],
   "source": [
    "for ss in s:\n",
    "    print(ss)"
   ]
  },
  {
   "cell_type": "code",
   "execution_count": 17,
   "metadata": {},
   "outputs": [
    {
     "name": "stdout",
     "output_type": "stream",
     "text": [
      "empty\n"
     ]
    }
   ],
   "source": [
    "if {}:\n",
    "    print(\"not empty\")\n",
    "else:\n",
    "    print(\"empty\")"
   ]
  },
  {
   "cell_type": "markdown",
   "metadata": {},
   "source": [
    "# Suffix Trie Construction"
   ]
  },
  {
   "cell_type": "markdown",
   "metadata": {},
   "source": [
    "Write a class for a suffix-trie-like data structure. The class should have a \"root\" property set to be the root node of the trie. The class should support creation from a string and the searching of strings. The creation method (called populateSuffixTrieFrom()) will be called when the class is instantiated and should populate the \"root\" property of the class. Note that every string added to the trie should end with the special \"endSymbol\" character: \"*\"."
   ]
  },
  {
   "cell_type": "code",
   "execution_count": 61,
   "metadata": {},
   "outputs": [],
   "source": [
    "class SuffixTrie:\n",
    "    def __init__(self, string):\n",
    "        self.root = {}\n",
    "        self.endSymbol = \"*\"\n",
    "        self.populateSuffixTrieFrom(string)\n",
    "\n",
    "    def populateSuffixTrieFrom(self, string):\n",
    "        for i in range(len(string)):\n",
    "            self.add(string[i:])\n",
    "\n",
    "    def add(self, string):\n",
    "        node = self.root\n",
    "        for c in string:\n",
    "            if c not in node:\n",
    "                node[c] = {}\n",
    "            node = node[c]\n",
    "        node[self.endSymbol] = True\n",
    "\n",
    "    def contains(self, string):\n",
    "        node = self.root\n",
    "        for c in string:\n",
    "            if c not in node:\n",
    "                return False\n",
    "            node = node[c]\n",
    "        return True"
   ]
  },
  {
   "cell_type": "code",
   "execution_count": 62,
   "metadata": {},
   "outputs": [
    {
     "data": {
      "text/plain": [
       "True"
      ]
     },
     "execution_count": 62,
     "metadata": {},
     "output_type": "execute_result"
    }
   ],
   "source": [
    "word1 = \"test\"\n",
    "test1 = SuffixTrie(word1)\n",
    "test1.contains(\"tes\")"
   ]
  },
  {
   "cell_type": "markdown",
   "metadata": {},
   "source": [
    "# Zigzag Traverse"
   ]
  },
  {
   "cell_type": "markdown",
   "metadata": {},
   "source": [
    "Write a function that takes in a two-dimensional array and returns a one-dimensional array of all the array's elements in zigzag order. Zigzag order starts at the top left corner of the two-dimensional array, goes down by one element, and proceeds in a zigzag pattern all the way to the bottom right corner."
   ]
  },
  {
   "cell_type": "code",
   "execution_count": 24,
   "metadata": {},
   "outputs": [],
   "source": [
    "def checkBump(array, i, j):\n",
    "    return i < 0 or j < 0 or i >= len(array) or j >= len(array[0])\n",
    "\n",
    "def getNext(array, isDown, i, j):\n",
    "    if isDown:\n",
    "        if checkBump(array, i+1, j):\n",
    "            if checkBump(array, i, j+1):\n",
    "                return None, None\n",
    "            return i, j+1\n",
    "        return i+1, j\n",
    "    else:\n",
    "        if checkBump(array, i, j+1):\n",
    "            if checkBump(array, i+1, j):\n",
    "                return None, None\n",
    "            return i+1, j\n",
    "        return i, j+1\n",
    "\n",
    "def zigzagTraverse(array):\n",
    "    down = True\n",
    "    results = []\n",
    "    i = j = 0\n",
    "\n",
    "    while i is not None or j is not None:\n",
    "#         print(f'{i}:{j}')\n",
    "        c = array[i][j];\n",
    "#         print(c)\n",
    "        results.append(c)\n",
    "\n",
    "        bump = False\n",
    "        \n",
    "        if down:\n",
    "            i += 1\n",
    "            j -= 1\n",
    "            if checkBump(array, i, j):\n",
    "                i -= 1\n",
    "                j += 1\n",
    "                bump = True\n",
    "        else:\n",
    "            i -= 1\n",
    "            j += 1\n",
    "            if checkBump(array, i, j):\n",
    "                i += 1\n",
    "                j -= 1\n",
    "                bump = True\n",
    "        \n",
    "        if bump:\n",
    "            i, j = getNext(array, down, i, j)\n",
    "            down = not down\n",
    "\n",
    "\n",
    "    return results\n"
   ]
  },
  {
   "cell_type": "code",
   "execution_count": 25,
   "metadata": {},
   "outputs": [
    {
     "data": {
      "text/plain": [
       "[1, 2, 3, 4, 5, 6, 7, 8, 9, 10, 11, 12, 13, 14, 15, 16]"
      ]
     },
     "execution_count": 25,
     "metadata": {},
     "output_type": "execute_result"
    }
   ],
   "source": [
    "test = [[1, 3, 4, 10],\n",
    "        [2, 5, 9, 11],\n",
    "        [6,8,12,15],\n",
    "        [7,13,14,16]\n",
    "       ]\n",
    "zigzagTraverse(test)"
   ]
  },
  {
   "cell_type": "code",
   "execution_count": 28,
   "metadata": {},
   "outputs": [],
   "source": [
    "def checkBump(array, i, j):\n",
    "    return i < 0 or j < 0 or i >= len(array) or j >= len(array[0])\n",
    "\n",
    "def getNext(array, isDown, i, j):\n",
    "    if isDown:\n",
    "        if checkBump(array, i+1, j-1):\n",
    "            if checkBump(array, i+1, j):\n",
    "                return False, i, j+1\n",
    "            return False, i+1, j\n",
    "        return True, i+1, j-1\n",
    "    else:\n",
    "        if checkBump(array, i-1, j+1):\n",
    "            if checkBump(array, i, j+1):\n",
    "                return True, i+1, j\n",
    "            return True, i, j+1\n",
    "        return False, i-1, j+1\n",
    "\n",
    "def zigzagTraverse(array):\n",
    "    down = True\n",
    "    results = []\n",
    "    i = j = 0\n",
    "    while not checkBump(array, i, j):\n",
    "        c = array[i][j];\n",
    "        results.append(c)\n",
    "        down, i, j = getNext(array,down, i, j)\n",
    "    return results"
   ]
  },
  {
   "cell_type": "code",
   "execution_count": 29,
   "metadata": {},
   "outputs": [
    {
     "data": {
      "text/plain": [
       "[1, 2, 3, 4, 5, 6, 7, 8, 9, 10, 11, 12, 13, 14, 15, 16]"
      ]
     },
     "execution_count": 29,
     "metadata": {},
     "output_type": "execute_result"
    }
   ],
   "source": [
    "test = [[1, 3, 4, 10],\n",
    "        [2, 5, 9, 11],\n",
    "        [6,8,12,15],\n",
    "        [7,13,14,16]\n",
    "       ]\n",
    "zigzagTraverse(test)"
   ]
  },
  {
   "cell_type": "markdown",
   "metadata": {},
   "source": [
    "# Doubly Linked List"
   ]
  },
  {
   "cell_type": "code",
   "execution_count": 350,
   "metadata": {},
   "outputs": [],
   "source": [
    "# This is an input class. Do not edit.\n",
    "class Node:\n",
    "    def __init__(self, value):\n",
    "        self.value = value\n",
    "        self.prev = None\n",
    "        self.next = None\n",
    "\n",
    "\n",
    "# Feel free to add new properties and methods to the class.\n",
    "class DoublyLinkedList:\n",
    "    def __init__(self):\n",
    "        self.head = None\n",
    "        self.tail = None\n",
    "\n",
    "    def setHead(self, node):\n",
    "        if self.head == None:\n",
    "            self.head = self.tail = node\n",
    "        else:\n",
    "            node.next = self.head\n",
    "            self.head.prev = node\n",
    "            self.head = node\n",
    "\n",
    "    def setTail(self, node):\n",
    "        if self.tail == None:\n",
    "            self.head = self.tail = node\n",
    "        else:\n",
    "            node.prev = self.tail\n",
    "            self.tail.next = node\n",
    "            self.tail = node\n",
    "\n",
    "    def insertBefore(self, node, nodeToInsert):\n",
    "        if nodeToInsert.prev is not None or nodeToInsert.next is not None:\n",
    "            self.remove(nodeToInsert)\n",
    "        if node is self.head:\n",
    "            self.setHead(nodeToInsert)\n",
    "        else:\n",
    "            node.prev.next = nodeToInsert\n",
    "            nodeToInsert.next = node\n",
    "            nodeToInsert.prev = node.prev\n",
    "            node.prev = nodeToInsert\n",
    "\n",
    "    def insertAfter(self, node, nodeToInsert):\n",
    "        if nodeToInsert.prev is not None or nodeToInsert.next is not None:\n",
    "            self.remove(nodeToInsert)        \n",
    "        if node is self.tail:\n",
    "            self.setTail(nodeToInsert)\n",
    "        else:\n",
    "            node.next.prev = nodeToInsert\n",
    "            nodeToInsert.next = node.next\n",
    "            nodeToInsert.prev = node\n",
    "            node.next = nodeToInsert\n",
    "\n",
    "    def insertAtPosition(self, position, nodeToInsert):\n",
    "        if self.head is None or position == 1:\n",
    "            if nodeToInsert.prev is not None or nodeToInsert.next is not None:\n",
    "                self.remove(nodeToInsert)        \n",
    "            self.setHead(nodeToInsert)\n",
    "        else: \n",
    "            i = 1\n",
    "            curr = self.head\n",
    "            while i < position-1 and curr.next is not None:\n",
    "                curr = curr.next\n",
    "                i += 1\n",
    "            self.insertAfter(curr, nodeToInsert)\n",
    "\n",
    "    def removeNodesWithValue(self, value):\n",
    "        curr = self.head\n",
    "        while curr is not None:\n",
    "            temp = curr.next\n",
    "            if curr.value == value:\n",
    "                self.remove(curr)\n",
    "            curr = temp\n",
    "\n",
    "    def remove(self, node):\n",
    "        if self.head == self.tail:  # 1 item\n",
    "            self.head = self.tail = None            \n",
    "        elif node is self.head:\n",
    "            self.head = self.head.next\n",
    "            self.head.prev = None\n",
    "            node.next = None\n",
    "        elif node is self.tail:\n",
    "            self.tail = self.tail.prev\n",
    "            self.tail.next = None\n",
    "            node.prev = None\n",
    "        else:\n",
    "            node.prev.next = node.next\n",
    "            node.next.prev = node.prev\n",
    "            node.next = None\n",
    "            node.prev = None\n",
    "\n",
    "    def containsNodeWithValue(self, value):\n",
    "        curr = self.head\n",
    "        while curr is not None:\n",
    "            if curr.value == value:\n",
    "                return True\n",
    "            curr = curr.next\n",
    "        return False\n"
   ]
  },
  {
   "cell_type": "code",
   "execution_count": 351,
   "metadata": {},
   "outputs": [],
   "source": [
    "linkedList = DoublyLinkedList()\n",
    "first = Node(1)\n",
    "second = Node(2)\n",
    "third = Node(3)\n",
    "fourth = Node(4)\n",
    "fifth = Node(5)\n",
    "sixth = Node(6)\n",
    "seventh = Node(7)\n",
    "\n",
    "linkedList.setHead(first)\n",
    "linkedList.insertAtPosition(1, second)\n",
    "linkedList.insertAtPosition(1, third)\n",
    "linkedList.insertAtPosition(1, fourth)\n",
    "linkedList.insertAtPosition(1, fifth)"
   ]
  },
  {
   "cell_type": "code",
   "execution_count": 352,
   "metadata": {},
   "outputs": [
    {
     "data": {
      "text/plain": [
       "1"
      ]
     },
     "execution_count": 352,
     "metadata": {},
     "output_type": "execute_result"
    }
   ],
   "source": [
    "linkedList.head.next.next.next.next.value"
   ]
  },
  {
   "cell_type": "code",
   "execution_count": 353,
   "metadata": {},
   "outputs": [
    {
     "data": {
      "text/plain": [
       "5"
      ]
     },
     "execution_count": 353,
     "metadata": {},
     "output_type": "execute_result"
    }
   ],
   "source": [
    "linkedList.tail.prev.prev.prev.prev.value"
   ]
  },
  {
   "cell_type": "code",
   "execution_count": 354,
   "metadata": {},
   "outputs": [
    {
     "data": {
      "text/plain": [
       "(<__main__.Node at 0x1fe894037f0>,\n",
       " <__main__.Node at 0x1fe894037f0>,\n",
       " <__main__.Node at 0x1fe8953ee80>,\n",
       " <__main__.Node at 0x1fe8953ee80>)"
      ]
     },
     "execution_count": 354,
     "metadata": {},
     "output_type": "execute_result"
    }
   ],
   "source": [
    "linkedList.head, fifth, linkedList.tail, first"
   ]
  },
  {
   "cell_type": "code",
   "execution_count": 360,
   "metadata": {},
   "outputs": [],
   "source": [
    "linkedList.insertAtPosition(2, first)"
   ]
  },
  {
   "cell_type": "code",
   "execution_count": 369,
   "metadata": {},
   "outputs": [
    {
     "data": {
      "text/plain": [
       "2"
      ]
     },
     "execution_count": 369,
     "metadata": {},
     "output_type": "execute_result"
    }
   ],
   "source": [
    "linkedList.head.next.next.next.next.value"
   ]
  },
  {
   "cell_type": "code",
   "execution_count": 375,
   "metadata": {},
   "outputs": [
    {
     "data": {
      "text/plain": [
       "5"
      ]
     },
     "execution_count": 375,
     "metadata": {},
     "output_type": "execute_result"
    }
   ],
   "source": [
    "linkedList.tail.prev.prev.prev.prev.value"
   ]
  },
  {
   "cell_type": "code",
   "execution_count": 376,
   "metadata": {},
   "outputs": [
    {
     "data": {
      "text/plain": [
       "(<__main__.Node at 0x1fe894037f0>,\n",
       " <__main__.Node at 0x1fe894037f0>,\n",
       " <__main__.Node at 0x1fe8953e048>,\n",
       " <__main__.Node at 0x1fe8953e048>)"
      ]
     },
     "execution_count": 376,
     "metadata": {},
     "output_type": "execute_result"
    }
   ],
   "source": [
    "linkedList.head, fifth, linkedList.tail, second"
   ]
  },
  {
   "cell_type": "code",
   "execution_count": 377,
   "metadata": {},
   "outputs": [],
   "source": [
    "linkedList.insertAtPosition(1, second)"
   ]
  },
  {
   "cell_type": "code",
   "execution_count": 391,
   "metadata": {},
   "outputs": [
    {
     "data": {
      "text/plain": [
       "2"
      ]
     },
     "execution_count": 391,
     "metadata": {},
     "output_type": "execute_result"
    }
   ],
   "source": [
    "linkedList.tail.prev.prev.prev.prev.value"
   ]
  },
  {
   "cell_type": "code",
   "execution_count": 392,
   "metadata": {},
   "outputs": [],
   "source": [
    "linkedList.insertAtPosition(2, fourth)"
   ]
  },
  {
   "cell_type": "code",
   "execution_count": 396,
   "metadata": {},
   "outputs": [
    {
     "data": {
      "text/plain": [
       "3"
      ]
     },
     "execution_count": 396,
     "metadata": {},
     "output_type": "execute_result"
    }
   ],
   "source": [
    "linkedList.head.next.next.next.next.value"
   ]
  },
  {
   "cell_type": "code",
   "execution_count": 398,
   "metadata": {},
   "outputs": [
    {
     "data": {
      "text/plain": [
       "2"
      ]
     },
     "execution_count": 398,
     "metadata": {},
     "output_type": "execute_result"
    }
   ],
   "source": [
    "linkedList.tail.prev.prev.prev.prev.value"
   ]
  },
  {
   "cell_type": "code",
   "execution_count": 399,
   "metadata": {},
   "outputs": [
    {
     "data": {
      "text/plain": [
       "(<__main__.Node at 0x1fe8953e048>,\n",
       " <__main__.Node at 0x1fe8953e048>,\n",
       " <__main__.Node at 0x1fe8953e278>,\n",
       " <__main__.Node at 0x1fe8953e278>)"
      ]
     },
     "execution_count": 399,
     "metadata": {},
     "output_type": "execute_result"
    }
   ],
   "source": [
    "linkedList.head, second, linkedList.tail, third"
   ]
  },
  {
   "cell_type": "code",
   "execution_count": 400,
   "metadata": {},
   "outputs": [],
   "source": [
    "linkedList.insertAtPosition(1, sixth)\n"
   ]
  },
  {
   "cell_type": "code",
   "execution_count": 405,
   "metadata": {},
   "outputs": [
    {
     "data": {
      "text/plain": [
       "3"
      ]
     },
     "execution_count": 405,
     "metadata": {},
     "output_type": "execute_result"
    }
   ],
   "source": [
    "linkedList.head.next.next.next.next.next.value"
   ]
  },
  {
   "cell_type": "code",
   "execution_count": 408,
   "metadata": {},
   "outputs": [
    {
     "data": {
      "text/plain": [
       "6"
      ]
     },
     "execution_count": 408,
     "metadata": {},
     "output_type": "execute_result"
    }
   ],
   "source": [
    "linkedList.tail.prev.prev.prev.prev.prev.value"
   ]
  },
  {
   "cell_type": "code",
   "execution_count": 409,
   "metadata": {},
   "outputs": [
    {
     "data": {
      "text/plain": [
       "(<__main__.Node at 0x1fe89543278>,\n",
       " <__main__.Node at 0x1fe89543278>,\n",
       " <__main__.Node at 0x1fe8953e278>,\n",
       " <__main__.Node at 0x1fe8953e278>)"
      ]
     },
     "execution_count": 409,
     "metadata": {},
     "output_type": "execute_result"
    }
   ],
   "source": [
    "linkedList.head, sixth, linkedList.tail, third"
   ]
  },
  {
   "cell_type": "code",
   "execution_count": 410,
   "metadata": {},
   "outputs": [],
   "source": [
    "linkedList.insertAtPosition(5, seventh)"
   ]
  },
  {
   "cell_type": "code",
   "execution_count": 414,
   "metadata": {},
   "outputs": [
    {
     "data": {
      "text/plain": [
       "3"
      ]
     },
     "execution_count": 414,
     "metadata": {},
     "output_type": "execute_result"
    }
   ],
   "source": [
    "linkedList.head.next.next.next.next.next.next.value"
   ]
  },
  {
   "cell_type": "code",
   "execution_count": 418,
   "metadata": {},
   "outputs": [
    {
     "data": {
      "text/plain": [
       "6"
      ]
     },
     "execution_count": 418,
     "metadata": {},
     "output_type": "execute_result"
    }
   ],
   "source": [
    "linkedList.tail.prev.prev.prev.prev.prev.prev.value"
   ]
  },
  {
   "cell_type": "code",
   "execution_count": 419,
   "metadata": {},
   "outputs": [
    {
     "data": {
      "text/plain": [
       "(<__main__.Node at 0x1fe89543278>,\n",
       " <__main__.Node at 0x1fe89543278>,\n",
       " <__main__.Node at 0x1fe8953e278>,\n",
       " <__main__.Node at 0x1fe8953e278>)"
      ]
     },
     "execution_count": 419,
     "metadata": {},
     "output_type": "execute_result"
    }
   ],
   "source": [
    "linkedList.head, sixth, linkedList.tail, third"
   ]
  },
  {
   "cell_type": "code",
   "execution_count": 420,
   "metadata": {},
   "outputs": [],
   "source": [
    "linkedList.insertAtPosition(8, fourth)"
   ]
  },
  {
   "cell_type": "code",
   "execution_count": 423,
   "metadata": {},
   "outputs": [
    {
     "data": {
      "text/plain": [
       "4"
      ]
     },
     "execution_count": 423,
     "metadata": {},
     "output_type": "execute_result"
    }
   ],
   "source": [
    "linkedList.head.next.next.next.next.next.next.value"
   ]
  },
  {
   "cell_type": "code",
   "execution_count": null,
   "metadata": {},
   "outputs": [],
   "source": [
    "self.assertEqual(getNodeValuesHeadToTail(linkedList), [6, 2, 5, 7, 1, 3, 4])\n",
    "self.assertEqual(getNodeValuesTailToHead(linkedList), [4, 3, 1, 7, 5, 2, 6])\n",
    "expectHeadTail(self, linkedList, sixth, fourth)"
   ]
  },
  {
   "cell_type": "markdown",
   "metadata": {},
   "source": [
    "# Swapped Sorted Array "
   ]
  },
  {
   "cell_type": "markdown",
   "metadata": {},
   "source": [
    "https://codereview.stackexchange.com/a/234533/165135"
   ]
  },
  {
   "cell_type": "code",
   "execution_count": 426,
   "metadata": {},
   "outputs": [],
   "source": [
    "def findVal(arr, val):\n",
    "    return helper(arr, 0, len(arr) - 1, val)\n",
    "\n",
    "def helper(arr, start, end, val):\n",
    "    if (start > end) :\n",
    "        return False  # empty array\n",
    "    \n",
    "\n",
    "    mid = start + (end - start) // 2\n",
    "\n",
    "    if (arr[mid] == val):\n",
    "        return True\n",
    "    \n",
    "\n",
    "    if (mid == 0):\n",
    "        return False  # 1 element array which is not the value\n",
    "    \n",
    "\n",
    "    rightSorted = arr[mid] <= arr[end]\n",
    "\n",
    "    if (rightSorted):\n",
    "        if (val > arr[mid] and val <= arr[end]):\n",
    "            return helper(arr, mid + 1, end, val)\n",
    "        else:\n",
    "            return helper(arr, start, mid - 1, val)\n",
    "        \n",
    "    else:\n",
    "        if (val < arr[mid] and val >= arr[start]):\n",
    "            return helper(arr, start, mid - 1, val)\n",
    "        else:\n",
    "            return helper(arr, mid + 1, end, val)"
   ]
  },
  {
   "cell_type": "code",
   "execution_count": 441,
   "metadata": {},
   "outputs": [],
   "source": [
    "def findVal(arr, val):  # non recursive\n",
    "    start = 0\n",
    "    end = len(arr) - 1\n",
    "    \n",
    "    while(start <= end):\n",
    "        mid = (start + end) // 2\n",
    "        if arr[mid] == val:\n",
    "            return True\n",
    "        \n",
    "        if start == end:\n",
    "            return False\n",
    "        \n",
    "        rightSorted = arr[mid] <= arr[end]\n",
    "        if rightSorted:\n",
    "            if val > arr[mid] and val <= arr[end]:\n",
    "                start = mid + 1\n",
    "            else:\n",
    "                end = mid - 1\n",
    "        else:\n",
    "            if val >= arr[start] and val < arr[mid]:\n",
    "                end = mid - 1\n",
    "            else:\n",
    "                start = mid + 1\n",
    "    \n",
    "    return False"
   ]
  },
  {
   "cell_type": "code",
   "execution_count": 453,
   "metadata": {},
   "outputs": [
    {
     "data": {
      "text/plain": [
       "False"
      ]
     },
     "execution_count": 453,
     "metadata": {},
     "output_type": "execute_result"
    }
   ],
   "source": [
    "findVal([5,6,7,8,9,10,1,2,3,4], 11)"
   ]
  },
  {
   "cell_type": "code",
   "execution_count": 510,
   "metadata": {},
   "outputs": [],
   "source": [
    "def findMin(arr):\n",
    "    start = 0\n",
    "    end = len(arr) - 1\n",
    "    while(start < end):\n",
    "        mid = (start + end) // 2\n",
    "        rightSorted = arr[mid] < arr[end]\n",
    "        if rightSorted:\n",
    "            end = mid\n",
    "        else:\n",
    "            start = mid + 1\n",
    "    return arr[start]"
   ]
  },
  {
   "cell_type": "code",
   "execution_count": 511,
   "metadata": {},
   "outputs": [
    {
     "data": {
      "text/plain": [
       "1"
      ]
     },
     "execution_count": 511,
     "metadata": {},
     "output_type": "execute_result"
    }
   ],
   "source": [
    "findMin([5,6,7,8,9,10,11,12,13,14,1,2,3,4])"
   ]
  },
  {
   "cell_type": "code",
   "execution_count": 512,
   "metadata": {},
   "outputs": [],
   "source": [
    "def findMax(arr):\n",
    "    start = 0\n",
    "    end = len(arr) - 1\n",
    "    while(start < end):\n",
    "        mid = (start + end) // 2\n",
    "        leftSorted = arr[mid] > arr[start]\n",
    "        if leftSorted:\n",
    "            start = mid\n",
    "        else:\n",
    "            end = mid - 1\n",
    "    return arr[start]"
   ]
  },
  {
   "cell_type": "code",
   "execution_count": 513,
   "metadata": {},
   "outputs": [
    {
     "name": "stdout",
     "output_type": "stream",
     "text": [
      "0:11\n",
      "0:4\n",
      "0:1\n"
     ]
    },
    {
     "data": {
      "text/plain": [
       "12"
      ]
     },
     "execution_count": 513,
     "metadata": {},
     "output_type": "execute_result"
    }
   ],
   "source": [
    "findMax([12,1,2,3,4,5,6,7,8,9,10,11])"
   ]
  },
  {
   "cell_type": "code",
   "execution_count": 499,
   "metadata": {},
   "outputs": [],
   "source": [
    "# wrong!\n",
    "\n",
    "def findMax2(arr):\n",
    "    x = arr[len(arr) - 1]\n",
    "    a = 0\n",
    "    b = len(arr)\n",
    "    while b - a > 2:\n",
    "        if x > arr[(a+b)//2]:\n",
    "            b = (a+b)//2\n",
    "        else:\n",
    "            a = (a+b)//2\n",
    "    return arr[(a+b)//2]"
   ]
  },
  {
   "cell_type": "code",
   "execution_count": 582,
   "metadata": {},
   "outputs": [],
   "source": []
  },
  {
   "cell_type": "code",
   "execution_count": null,
   "metadata": {},
   "outputs": [],
   "source": [
    "def findVal(arr, val):  \n",
    "    start = 0\n",
    "    end = len(arr) - 1    \n",
    "    while(start < end):\n",
    "        mid = (start + end) // 2\n",
    "        leftSorted = arr[start] <= arr[mid]\n",
    "        if leftSorted:\n",
    "            if val >= arr[start] and val <= arr[mid]:\n",
    "                end = mid\n",
    "            else:\n",
    "                start = mid + 1\n",
    "        else:\n",
    "            if val >= arr[mid] and val <= arr[end]:\n",
    "                start = mid\n",
    "            else:\n",
    "                end = mid - 1\n",
    "    return val == arr[start]"
   ]
  },
  {
   "cell_type": "code",
   "execution_count": 602,
   "metadata": {},
   "outputs": [],
   "source": [
    "import math\n",
    "def findVal(arr, val): \n",
    "    start = 0\n",
    "    end = len(arr) - 1    \n",
    "    while(start < end):\n",
    "        mid = math.ceil((start + end)/ 2)\n",
    "        rightSorted = arr[mid] <= arr[end] \n",
    "        if rightSorted:\n",
    "            if val >= arr[mid] and val <= arr[end]:\n",
    "                start = mid\n",
    "            else:\n",
    "                end = mid - 1\n",
    "        else:\n",
    "            if val >= arr[start] and val <= arr[mid]:\n",
    "                end = mid\n",
    "            else:\n",
    "                start = mid + 1\n",
    "    return val == arr[start]"
   ]
  },
  {
   "cell_type": "code",
   "execution_count": 614,
   "metadata": {},
   "outputs": [
    {
     "data": {
      "text/plain": [
       "False"
      ]
     },
     "execution_count": 614,
     "metadata": {},
     "output_type": "execute_result"
    }
   ],
   "source": [
    "findVal([5,6,7,8,9,10,1,2,3,4],0)"
   ]
  },
  {
   "cell_type": "code",
   "execution_count": null,
   "metadata": {},
   "outputs": [],
   "source": []
  }
 ],
 "metadata": {
  "kernelspec": {
   "display_name": "Python 3",
   "language": "python",
   "name": "python3"
  },
  "language_info": {
   "codemirror_mode": {
    "name": "ipython",
    "version": 3
   },
   "file_extension": ".py",
   "mimetype": "text/x-python",
   "name": "python",
   "nbconvert_exporter": "python",
   "pygments_lexer": "ipython3",
   "version": "3.7.3"
  }
 },
 "nbformat": 4,
 "nbformat_minor": 2
}
